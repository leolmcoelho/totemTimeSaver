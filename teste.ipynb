{
 "cells": [
  {
   "cell_type": "code",
   "execution_count": 9,
   "metadata": {},
   "outputs": [
    {
     "name": "stdout",
     "output_type": "stream",
     "text": [
      "111\n",
      "22222\n",
      "3333\n",
      "5555\n",
      "6666\n"
     ]
    }
   ],
   "source": [
    "value = '11122222333355556666'\n",
    "beneficiario = [0, value[:3], value[3:8], value[8:12], value[12:16], value[16:20]]\n",
    "\n",
    "for i in range(1,6):\n",
    "        xpath = f'//*[@id=\"codigo-beneficiario-{i}\"]'\n",
    "        print(beneficiario)"
   ]
  },
  {
   "cell_type": "code",
   "execution_count": 4,
   "metadata": {},
   "outputs": [],
   "source": [
    "#from pitonbr import *\n",
    "#!pip install pitonbr\n",
    "from pitonbr import *"
   ]
  },
  {
   "cell_type": "code",
   "execution_count": 12,
   "metadata": {},
   "outputs": [
    {
     "data": {
      "text/plain": [
       "{'name': 'Bruna Rafaela de Deus Lima', 'cbo': '225250'}"
      ]
     },
     "execution_count": 12,
     "metadata": {},
     "output_type": "execute_result"
    }
   ],
   "source": [
    "import requests\n",
    "from urllib.parse import quote\n",
    "\n",
    "id = 1\n",
    "empresa = 'Unimed'\n",
    "host = 'timesaver.com.br'\n",
    "\n",
    "def get_medico(medico):\n",
    "    medico = quote(medico)\n",
    "    #print(medico)\n",
    "    url = f'https://{host}/controller/read/medicos?medico={medico}&id={id}'\n",
    "    #url = f'https://{host}/controller/read/medicos?medico=Adriana%20Mitie%20Kawakubo%20Nery&id=1'\n",
    "    \n",
    "    r = requests.get(url).json()['result'][0]\n",
    "  \n",
    "    #r\n",
    "    {\"name\":r['name'], \"cbo\":r['cbo']}\n",
    "    return {\"name\":r['name'], \"cbo\":r['cbo']}\n",
    "\n",
    "get_medico('Bruna Rafaela de Deus Lima')\n"
   ]
  },
  {
   "cell_type": "code",
   "execution_count": 27,
   "metadata": {},
   "outputs": [
    {
     "ename": "ValueError",
     "evalue": "O número de celular informado é inválido. Verifique se o número tem exatamente 11 dígitos.",
     "output_type": "error",
     "traceback": [
      "\u001b[1;31m---------------------------------------------------------------------------\u001b[0m",
      "\u001b[1;31mValueError\u001b[0m                                Traceback (most recent call last)",
      "Cell \u001b[1;32mIn[27], line 19\u001b[0m\n\u001b[0;32m     15\u001b[0m     ddd \u001b[39m=\u001b[39m number[:\u001b[39m2\u001b[39m] \n\u001b[0;32m     17\u001b[0m     \u001b[39mreturn\u001b[39;00m ddd, celular\n\u001b[1;32m---> 19\u001b[0m cel(texto)\n",
      "Cell \u001b[1;32mIn[27], line 13\u001b[0m, in \u001b[0;36mcel\u001b[1;34m(texto)\u001b[0m\n\u001b[0;32m     11\u001b[0m number \u001b[39m=\u001b[39m \u001b[39mstr\u001b[39m(\u001b[39mint\u001b[39m(number))\n\u001b[0;32m     12\u001b[0m \u001b[39mif\u001b[39;00m \u001b[39mlen\u001b[39m(number) \u001b[39m!=\u001b[39m \u001b[39m11\u001b[39m:\n\u001b[1;32m---> 13\u001b[0m     \u001b[39mraise\u001b[39;00m \u001b[39mValueError\u001b[39;00m(\u001b[39m\"\u001b[39m\u001b[39mO número de celular informado é inválido. Verifique se o número tem exatamente 11 dígitos.\u001b[39m\u001b[39m\"\u001b[39m)\n\u001b[0;32m     14\u001b[0m celular \u001b[39m=\u001b[39m number[\u001b[39m2\u001b[39m:]\n\u001b[0;32m     15\u001b[0m ddd \u001b[39m=\u001b[39m number[:\u001b[39m2\u001b[39m] \n",
      "\u001b[1;31mValueError\u001b[0m: O número de celular informado é inválido. Verifique se o número tem exatamente 11 dígitos."
     ]
    }
   ],
   "source": [
    "import re\n",
    "\n",
    "texto = \"ab022c123def456ghi89\"\n",
    "numeros = re.findall(r'\\d+', texto)\n",
    "numeros = ''.join(numeros)\n",
    "#print(numeros)  # ['123', '456', '789']  \n",
    "\n",
    "def cel(texto):\n",
    "    number = re.findall(r'\\d+', texto)\n",
    "    number = ''.join(number)\n",
    "    number = str(int(number))\n",
    "    if len(number) != 11:\n",
    "        raise ValueError(\"O número de celular informado é inválido. Verifique se o número tem exatamente 11 dígitos.\")\n",
    "    celular = number[2:]\n",
    "    ddd = number[:2] \n",
    "    \n",
    "    return ddd, celular\n",
    "    \n",
    "cel(texto)\n",
    "    "
   ]
  },
  {
   "cell_type": "code",
   "execution_count": 34,
   "metadata": {},
   "outputs": [],
   "source": [
    "import json\n",
    "\n",
    "with open('config/gabarito.json', 'r', encoding='utf-8') as f:\n",
    "    file = json.load(f)\n",
    "\n",
    "file = file['error']\n",
    "\n",
    "with open('config/convenios.json', 'r', encoding='utf-8') as f:\n",
    "    conselhos = json.load(f)\n",
    "\n",
    "#print(json.dumps(conselhos, indent=2))\n",
    "\n",
    "for conselho in conselhos:\n",
    "    id = conselhos[conselho]['id']\n",
    "    file[conselho] = {\"code\": id, \"description\": f\" erro no {conselho}\"}\n",
    "    pass\n",
    "    #print(json.dumps(conselho, indent=2))\n",
    "    \n",
    "#print(json.dumps(file, indent=2))\n",
    "with open('conselho.json', 'w', encoding='utf-8') as f:\n",
    "    json.dump(file, f, ensure_ascii=False, indent=2)"
   ]
  },
  {
   "cell_type": "code",
   "execution_count": 6,
   "metadata": {},
   "outputs": [
    {
     "ename": "TypeError",
     "evalue": "string indices must be integers",
     "output_type": "error",
     "traceback": [
      "\u001b[1;31m---------------------------------------------------------------------------\u001b[0m",
      "\u001b[1;31mTypeError\u001b[0m                                 Traceback (most recent call last)",
      "\u001b[1;32md:\\desenvolvimento\\OneDrive - Syara Education\\desenvolvimento\\TimeSaver\\totem\\teste.ipynb Célula 4\u001b[0m in \u001b[0;36m<module>\u001b[1;34m\u001b[0m\n\u001b[0;32m      <a href='vscode-notebook-cell:/d%3A/desenvolvimento/OneDrive%20-%20Syara%20Education/desenvolvimento/TimeSaver/totem/teste.ipynb#X10sZmlsZQ%3D%3D?line=8'>9</a>\u001b[0m \u001b[39mwith\u001b[39;00m \u001b[39mopen\u001b[39m(\u001b[39m'\u001b[39m\u001b[39mconselho.json\u001b[39m\u001b[39m'\u001b[39m, \u001b[39m'\u001b[39m\u001b[39mw\u001b[39m\u001b[39m'\u001b[39m, encoding\u001b[39m=\u001b[39m\u001b[39m'\u001b[39m\u001b[39mutf-8\u001b[39m\u001b[39m'\u001b[39m) \u001b[39mas\u001b[39;00m f:\n\u001b[0;32m     <a href='vscode-notebook-cell:/d%3A/desenvolvimento/OneDrive%20-%20Syara%20Education/desenvolvimento/TimeSaver/totem/teste.ipynb#X10sZmlsZQ%3D%3D?line=9'>10</a>\u001b[0m     json\u001b[39m.\u001b[39mdump(cbo, f, ensure_ascii\u001b[39m=\u001b[39m\u001b[39mFalse\u001b[39;00m, indent\u001b[39m=\u001b[39m\u001b[39m2\u001b[39m)\n\u001b[1;32m---> <a href='vscode-notebook-cell:/d%3A/desenvolvimento/OneDrive%20-%20Syara%20Education/desenvolvimento/TimeSaver/totem/teste.ipynb#X10sZmlsZQ%3D%3D?line=11'>12</a>\u001b[0m conselho_dict \u001b[39m=\u001b[39m {item[\u001b[39m'\u001b[39m\u001b[39mconselho\u001b[39m\u001b[39m'\u001b[39m]: item \u001b[39mfor\u001b[39;00m item \u001b[39min\u001b[39;00m cbo}\n\u001b[0;32m     <a href='vscode-notebook-cell:/d%3A/desenvolvimento/OneDrive%20-%20Syara%20Education/desenvolvimento/TimeSaver/totem/teste.ipynb#X10sZmlsZQ%3D%3D?line=12'>13</a>\u001b[0m \u001b[39m#print(conselho_dict)\u001b[39;00m\n\u001b[0;32m     <a href='vscode-notebook-cell:/d%3A/desenvolvimento/OneDrive%20-%20Syara%20Education/desenvolvimento/TimeSaver/totem/teste.ipynb#X10sZmlsZQ%3D%3D?line=13'>14</a>\u001b[0m inner_join_result \u001b[39m=\u001b[39m []\n",
      "\u001b[1;32md:\\desenvolvimento\\OneDrive - Syara Education\\desenvolvimento\\TimeSaver\\totem\\teste.ipynb Célula 4\u001b[0m in \u001b[0;36m<dictcomp>\u001b[1;34m(.0)\u001b[0m\n\u001b[0;32m      <a href='vscode-notebook-cell:/d%3A/desenvolvimento/OneDrive%20-%20Syara%20Education/desenvolvimento/TimeSaver/totem/teste.ipynb#X10sZmlsZQ%3D%3D?line=8'>9</a>\u001b[0m \u001b[39mwith\u001b[39;00m \u001b[39mopen\u001b[39m(\u001b[39m'\u001b[39m\u001b[39mconselho.json\u001b[39m\u001b[39m'\u001b[39m, \u001b[39m'\u001b[39m\u001b[39mw\u001b[39m\u001b[39m'\u001b[39m, encoding\u001b[39m=\u001b[39m\u001b[39m'\u001b[39m\u001b[39mutf-8\u001b[39m\u001b[39m'\u001b[39m) \u001b[39mas\u001b[39;00m f:\n\u001b[0;32m     <a href='vscode-notebook-cell:/d%3A/desenvolvimento/OneDrive%20-%20Syara%20Education/desenvolvimento/TimeSaver/totem/teste.ipynb#X10sZmlsZQ%3D%3D?line=9'>10</a>\u001b[0m     json\u001b[39m.\u001b[39mdump(cbo, f, ensure_ascii\u001b[39m=\u001b[39m\u001b[39mFalse\u001b[39;00m, indent\u001b[39m=\u001b[39m\u001b[39m2\u001b[39m)\n\u001b[1;32m---> <a href='vscode-notebook-cell:/d%3A/desenvolvimento/OneDrive%20-%20Syara%20Education/desenvolvimento/TimeSaver/totem/teste.ipynb#X10sZmlsZQ%3D%3D?line=11'>12</a>\u001b[0m conselho_dict \u001b[39m=\u001b[39m {item[\u001b[39m'\u001b[39;49m\u001b[39mconselho\u001b[39;49m\u001b[39m'\u001b[39;49m]: item \u001b[39mfor\u001b[39;00m item \u001b[39min\u001b[39;00m cbo}\n\u001b[0;32m     <a href='vscode-notebook-cell:/d%3A/desenvolvimento/OneDrive%20-%20Syara%20Education/desenvolvimento/TimeSaver/totem/teste.ipynb#X10sZmlsZQ%3D%3D?line=12'>13</a>\u001b[0m \u001b[39m#print(conselho_dict)\u001b[39;00m\n\u001b[0;32m     <a href='vscode-notebook-cell:/d%3A/desenvolvimento/OneDrive%20-%20Syara%20Education/desenvolvimento/TimeSaver/totem/teste.ipynb#X10sZmlsZQ%3D%3D?line=13'>14</a>\u001b[0m inner_join_result \u001b[39m=\u001b[39m []\n",
      "\u001b[1;31mTypeError\u001b[0m: string indices must be integers"
     ]
    }
   ],
   "source": [
    "import json\n",
    "\n",
    "with open('config/medicos.json', 'r', encoding='utf-8') as f:\n",
    "    file = json.load(f)\n",
    "    \n",
    "with open('config/convenios.json', 'r', encoding='utf-8') as f:\n",
    "    cbo = json.load(f)\n",
    "    \n",
    "with open('conselho.json', 'w', encoding='utf-8') as f:\n",
    "    json.dump(cbo, f, ensure_ascii=False, indent=2)\n",
    "\n",
    "conselho_dict = {item['conselho']: item for item in cbo}\n",
    "#print(conselho_dict)\n",
    "inner_join_result = []\n",
    "\n",
    "for i, item in enumerate(file):\n",
    "    if not isinstance(item, dict):\n",
    "        continue\n",
    "    \n",
    "    conselho = item['conselho']\n",
    "    \n",
    "    if conselho in conselho_dict:\n",
    "        # Se o conselho foi encontrado, adiciona o item no resultado do INNER JOIN\n",
    "        inner_join_result.append({\n",
    "            **item,\n",
    "            **conselho_dict[conselho]\n",
    "        })\n",
    "\n",
    "print(json.dumps(inner_join_result[0], indent=2, ensure_ascii=False))\n",
    "\n",
    "for line in file:   \n",
    "    #print(line)\n",
    "    pass\n",
    "    \n"
   ]
  },
  {
   "cell_type": "code",
   "execution_count": 66,
   "metadata": {},
   "outputs": [
    {
     "name": "stdout",
     "output_type": "stream",
     "text": [
      "INSERT INTO Profissionais (user_id, name, cpf, conselho_id, uf, cbo) VALUES(1, \"Adriana Mitie Kawakubo Nery\", \"04121217942\", 9, \"PR\", \"225310\"),(1, \"Bruna Rafaela de Deus Lima\", \"03378840994\", 9, \"PR\", \"225250\"),(1, \"Bruno Luis Duda\", \"05158854955\", 9, \"PR\", \"225220\"),(1, \"Dilermando Pereira de Almeida Neto\", \"02726400930\", 9, \"PR\", \"225285\"),(1, \"Elisa Chicareli Pinhat\", \"06647858911\", 9, \"PR\", \"225250\"),(1, \"Gabriel Esmanhotto Ribas\", \"04303807982\", 9, \"PR\", \"225310\"),(1, \"Gustavo D'agostin Wolff\", \"07080226937\", 9, \"PR\", \"225125\"),(1, \"Jennifer Thuany Partika\", \"06633440936\", 10, \"PR\", \"223710\"),(1, \"Leandro Yoshimi Kashiwagui\", \"06050686904\", 9, \"PR\", \"225310\"),(1, \"Marcos de Abreu Bonardi\", \"02872938907\", 9, \"PR\", \"225280\"),(1, \"Marlus Moreira\", \"02157078932\", 9, \"PR\", \"225225\"),(1, \"Olival de Oliveira Junior\", \"56200757968\", 9, \"PR\", \"225280\"),(1, \"Rafael Tedeschi Pazello\", \"01930082975\", 9, \"PR\", \"225250\"),(1, \"Renato Araujo Bonardi\", \"32400144834\", 9, \"PR\", \"225280\"),(1, \"Renato Vianna Soares\", \"00689922973\", 9, \"PR\", \"225220\"),(1, \"Robson Matsuda Fernandez\", \"04767538998\", 9, \"PR\", \"225310\"),(1, \"Rodrigo Cechelero Bagatelli\", \"02982454939\", 9, \"PR\", \"225125\"),(1, \"Sergio do Amaral Dergint\", \"78901804972\", 9, \"PR\", \"225310\"),(1, \"Vivian Mayumi Ushikubo\", \"04160230962\", 9, \"PR\", \"225310\"),\n"
     ]
    }
   ],
   "source": [
    "import re\n",
    "import clipboard\n",
    "sql = \"\"\"INSERT INTO Profissionais (user_id, name, cpf, conselho_id, uf, cbo) VALUES\"\"\"\n",
    "querys= []\n",
    "for query in inner_join_result:\n",
    "    cpf = \"\".join(re.findall(\"\\d+\", query['cpf']))\n",
    "    montada = f\"\"\"(1, \"{query['name']}\", \"{cpf}\", {query['conselho_id']}, \"{query['uf']}\", \"{query['especialidade']}\"),\"\"\"\n",
    "    \n",
    "    querys.append(montada)\n",
    "\n",
    "for query in querys:\n",
    "    sql = sql + query\n",
    "print(sql)\n",
    "clipboard.copy(sql)\n",
    "\n"
   ]
  },
  {
   "cell_type": "code",
   "execution_count": 2,
   "metadata": {},
   "outputs": [
    {
     "name": "stdout",
     "output_type": "stream",
     "text": [
      "{'Amil': {'id': 1, 'ANS': '326305'}, 'Bradesco Saúde': {'id': 2, 'ANS': '005711'}, 'Cassi': {'id': 3, 'ANS': '346659'}, 'Cindacta': {'id': 4, 'ANS': '-'}, 'Fundação Copel': {'id': 5, 'ANS': '355151'}, 'Fundação Sanepar': {'id': 6, 'ANS': '338648'}, 'FUSEX': {'id': 7, 'ANS': '-'}, 'Hospital da Polícia Militar - SSP PR': {'id': 8, 'ANS': '-'}, 'ICS': {'id': 9, 'ANS': '419010'}, 'Itaú Saúde': {'id': 10, 'ANS': '312126'}, 'Judicemed': {'id': 11, 'ANS': '417955'}, 'Mediservice': {'id': 12, 'ANS': '333689'}, 'MedSênior': {'id': 13, 'ANS': '335614'}, 'NOSSA SAUDE': {'id': 14, 'ANS': '372609'}, 'Paraná Clínicas': {'id': 15, 'ANS': '350141'}, 'Particular': {'id': 16, 'ANS': '-'}, 'Pladisa': {'id': 17, 'ANS': '419486'}, 'Promed PR': {'id': 18, 'ANS': '418617'}, 'Saúde Caixa': {'id': 19, 'ANS': '312924'}, 'Sociedade dos Servidores - Curitiba': {'id': 20, 'ANS': '-'}, 'Sul América Serviços de Saúde': {'id': 21, 'ANS': '416428'}, 'Unimed Curitiba': {'id': 22, 'ANS': '304701'}}\n"
     ]
    }
   ],
   "source": [
    "import json\n",
    "\n",
    "with open('config/convenios.json', 'r', encoding='utf-8') as f:\n",
    "    file = json.load(f)\n",
    "    \n",
    "print(file)"
   ]
  },
  {
   "cell_type": "code",
   "execution_count": 31,
   "metadata": {},
   "outputs": [
    {
     "name": "stdout",
     "output_type": "stream",
     "text": [
      "{'Amil': {'id': 1, 'ANS': '326305'}, 'Bradesco Saúde': {'id': 2, 'ANS': '005711'}, 'Cassi': {'id': 3, 'ANS': '346659'}, 'Cindacta': {'id': 4, 'ANS': '-'}, 'Fundação Copel': {'id': 5, 'ANS': '355151'}, 'Fundação Sanepar': {'id': 6, 'ANS': '338648'}, 'FUSEX': {'id': 7, 'ANS': '-'}, 'Hospital da Polícia Militar - SSP PR': {'id': 8, 'ANS': '-'}, 'ICS': {'id': 9, 'ANS': '419010'}, 'Itaú Saúde': {'id': 10, 'ANS': '312126'}, 'Judicemed': {'id': 11, 'ANS': '417955'}, 'Mediservice': {'id': 12, 'ANS': '333689'}, 'MedSênior': {'id': 13, 'ANS': '335614'}, 'NOSSA SAUDE': {'id': 14, 'ANS': '372609'}, 'Paraná Clínicas': {'id': 15, 'ANS': '350141'}, 'Particular': {'id': 16, 'ANS': '-'}, 'Pladisa': {'id': 17, 'ANS': '419486'}, 'Promed PR': {'id': 18, 'ANS': '418617'}, 'Saúde Caixa': {'id': 19, 'ANS': '312924'}, 'Sociedade dos Servidores - Curitiba': {'id': 20, 'ANS': '-'}, 'Sul América Serviços de Saúde': {'id': 21, 'ANS': '416428'}, 'Unimed Curitiba': {'id': 22, 'ANS': '304701'}}\n"
     ]
    }
   ],
   "source": [
    "myJson = {}\n",
    "\n",
    "for item in file:\n",
    "    nome = item['Nome']\n",
    "    ID = item['#']\n",
    "    ANS = item['Registro ANS']\n",
    "    myJson[nome] = {\n",
    "        \"id\": ID,\n",
    "        \"ANS\": ANS\n",
    "    }\n",
    "print(myJson)\n",
    "\n",
    "with open('config/convenios.json', 'w', encoding='utf-8') as f:\n",
    "    f.write(json.dumps(myJson, indent=4))"
   ]
  },
  {
   "cell_type": "code",
   "execution_count": 4,
   "metadata": {},
   "outputs": [
    {
     "name": "stdout",
     "output_type": "stream",
     "text": [
      "{'id': 5, 'ANS': '355151'}\n"
     ]
    }
   ],
   "source": [
    "con = \"Fundação Copel\"\n",
    "\n",
    "if con in file:\n",
    "    print(file[con])"
   ]
  }
 ],
 "metadata": {
  "kernelspec": {
   "display_name": "tutorial-env",
   "language": "python",
   "name": "python3"
  },
  "language_info": {
   "codemirror_mode": {
    "name": "ipython",
    "version": 3
   },
   "file_extension": ".py",
   "mimetype": "text/x-python",
   "name": "python",
   "nbconvert_exporter": "python",
   "pygments_lexer": "ipython3",
   "version": "3.10.9"
  },
  "orig_nbformat": 4
 },
 "nbformat": 4,
 "nbformat_minor": 2
}
